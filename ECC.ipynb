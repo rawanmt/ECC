{
  "nbformat": 4,
  "nbformat_minor": 0,
  "metadata": {
    "colab": {
      "name": "ECC.ipynb",
      "provenance": [],
      "authorship_tag": "ABX9TyPVlwOgB0QXI9jL+RysLrft",
      "include_colab_link": true
    },
    "kernelspec": {
      "name": "python3",
      "display_name": "Python 3"
    },
    "language_info": {
      "name": "python"
    }
  },
  "cells": [
    {
      "cell_type": "markdown",
      "metadata": {
        "id": "view-in-github",
        "colab_type": "text"
      },
      "source": [
        "<a href=\"https://colab.research.google.com/github/rawanmt/ECC/blob/main/ECC.ipynb\" target=\"_parent\"><img src=\"https://colab.research.google.com/assets/colab-badge.svg\" alt=\"Open In Colab\"/></a>"
      ]
    },
    {
      "cell_type": "code",
      "source": [
        "from tinyec import registry\n",
        "from Crypto.Cipher import AES\n",
        "import hashlib, secrets, binascii\n",
        "\n",
        "def encrypt_AES_GCM(msg, secretKey):\n",
        "    aesCipher = AES.new(secretKey, AES.MODE_GCM)\n",
        "    ciphertext, authTag = aesCipher.encrypt_and_digest(msg)\n",
        "    return (ciphertext, aesCipher.nonce, authTag)\n",
        "\n",
        "def decrypt_AES_GCM(ciphertext, nonce, authTag, secretKey):\n",
        "    aesCipher = AES.new(secretKey, AES.MODE_GCM, nonce)\n",
        "    plaintext = aesCipher.decrypt_and_verify(ciphertext, authTag)\n",
        "    return plaintext\n",
        "\n",
        "def ecc_point_to_256_bit_key(point):\n",
        "    sha = hashlib.sha256(int.to_bytes(point.x, 32, 'big'))\n",
        "    sha.update(int.to_bytes(point.y, 32, 'big'))\n",
        "    return sha.digest()\n",
        "\n",
        "# curve = registry.get_curve('brainpoolP256r1')\n",
        "\n",
        "field = SubGroup(p=37, g=(2, 5), n=18, h=1)\n",
        "\n",
        "curve = Curve(a=7, b=3, field=field, name='p1707')\n",
        "\n",
        "def encrypt_ECC(msg, pubKey):\n",
        "    ciphertextPrivKey = secrets.randbelow(curve.field.n)\n",
        "    sharedECCKey = ciphertextPrivKey * pubKey\n",
        "    secretKey = ecc_point_to_256_bit_key(sharedECCKey)\n",
        "    ciphertext, nonce, authTag = encrypt_AES_GCM(msg, secretKey)\n",
        "    ciphertextPubKey = ciphertextPrivKey * curve.g\n",
        "    return (ciphertext, nonce, authTag, ciphertextPubKey)\n",
        "\n",
        "def decrypt_ECC(encryptedMsg, privKey):\n",
        "    (ciphertext, nonce, authTag, ciphertextPubKey) = encryptedMsg\n",
        "    sharedECCKey = privKey * ciphertextPubKey\n",
        "    secretKey = ecc_point_to_256_bit_key(sharedECCKey)\n",
        "    plaintext = decrypt_AES_GCM(ciphertext, nonce, authTag, secretKey)\n",
        "    return plaintext\n",
        "\n",
        "msg = b'Hello World' \\\n",
        "\n",
        "print(\"Original Messsage:\", msg, \"\\n\")\n",
        "privKey = secrets.randbelow(curve.field.n)\n",
        "pubKey = privKey * curve.g\n",
        "\n",
        "encryptedMsg = encrypt_ECC(msg, pubKey)\n",
        "\n",
        "encryptedMsgObj = {\n",
        "    'Cipher Text': binascii.hexlify(encryptedMsg[0]),\n",
        "    'Nonce': binascii.hexlify(encryptedMsg[1]),\n",
        "    'Digital Signiture': binascii.hexlify(encryptedMsg[2]),\n",
        "    'Ciphertext Public Key': hex(encryptedMsg[3].x) + hex(encryptedMsg[3].y % 2)[2:]\n",
        "}\n",
        "\n",
        "for key, value in encryptedMsgObj.items() :\n",
        "    print(key, value, \"\\n\")\n",
        "\n",
        "decryptedMsg = decrypt_ECC(encryptedMsg, privKey)\n",
        "print(\"Decrypted Messsage:\", decryptedMsg, \"\\n\")\n",
        "\n",
        "\n"
      ],
      "metadata": {
        "colab": {
          "base_uri": "https://localhost:8080/"
        },
        "id": "KsdeHSIbu3Ma",
        "outputId": "5db89c90-8432-40d0-dc2a-66c7ecaacccb"
      },
      "execution_count": 107,
      "outputs": [
        {
          "output_type": "stream",
          "name": "stdout",
          "text": [
            "Original Messsage: b'Hello World' \n",
            "\n",
            "Cipher Text b'ddc32ec3bca8f015f30c77' \n",
            "\n",
            "Nonce b'62310ae854f0b7ad6a7a67caeda0a5b0' \n",
            "\n",
            "Digital Signiture b'88c65bc8ae1288ff1569ce38e5b76560' \n",
            "\n",
            "Ciphertext Public Key 0x171 \n",
            "\n",
            "Decrypted Messsage: b'Hello World' \n",
            "\n"
          ]
        }
      ]
    }
  ]
}